{
 "cells": [
  {
   "cell_type": "code",
   "execution_count": 4,
   "id": "4631437e",
   "metadata": {},
   "outputs": [],
   "source": [
    "import os\n",
    "import json\n",
    "import time"
   ]
  },
  {
   "cell_type": "markdown",
   "id": "f3f689d5",
   "metadata": {},
   "source": [
    "### Products Dictionary"
   ]
  },
  {
   "cell_type": "code",
   "execution_count": 5,
   "id": "989ff804",
   "metadata": {},
   "outputs": [
    {
     "name": "stdout",
     "output_type": "stream",
     "text": [
      "{'pname': 'dairymilk', 'price': 150, 'quantity': 5, 'pcode': 'a1001', 'pcategory': 'choc', 'date_of_exp': '12/12/2024'}\n"
     ]
    }
   ],
   "source": [
    "products={\n",
    "    1001:{\"pname\":\"dairymilk\",\"price\":150,\"quantity\":5,\"pcode\":\"a1001\",\"pcategory\":\"choc\",\"date_of_exp\":\"12/12/2024\"},\n",
    "    1002:{\"pname\":\"fivestar\",\"price\":10,\"quantity\":5,\"pcode\":\"a1002\",\"pcategory\":\"choc\",\"date_of_exp\":\"10/10/2023\"},\n",
    "    1003:{\"pname\":\"oreo\",\"price\":100,\"quantity\":5,\"pcode\":\"a1003\",\"pcategory\":\"biscuit\",\"date_of_exp\":\"01/02/2023\"},\n",
    "    1004:{\"pname\":\"redmi\",\"price\":10000,\"quantity\":10,\"pcode\":\"a1004\",\"pcategory\":\"mobile\",\"date_of_exp\":\"22/09/2023\"},\n",
    "    1005:{\"pname\":\"vivo\",\"price\":11000,\"quantity\":15,\"pcode\":\"a1005\",\"pcategory\":\"mobile\",\"date_of_exp\":\"14/07/2029\"},\n",
    "    1006:{\"pname\":\"oppo\",\"price\":8000,\"quantity\":11,\"pcode\":\"a1006\",\"pcategory\":\"mobile\",\"date_of_exp\":\"05/02/2028\"},\n",
    "    1007:{\"pname\":\"iphone\",\"price\":15000,\"quantity\":5,\"pcode\":\"a1007\",\"pcategory\":\"mobile\",\"date_of_exp\":\"15/12/2030\"},\n",
    "    1008:{\"pname\":\"HP\",\"price\":50000,\"quantity\":3,\"pcode\":\"a1008\",\"pcategory\":\"laptop\",\"date_of_exp\":\"22/04/2029\"},\n",
    "    1009:{\"pname\":\"Dell\",\"price\":45000,\"quantity\":5,\"pcode\":\"a1009\",\"pcategory\":\"laptop\",\"date_of_exp\":\"17/11/2028\"},\n",
    "    1010:{\"pname\":\"lenevo\",\"price\":6000,\"quantity\":8,\"pcode\":\"a1010\",\"pcategory\":\"choc\",\"date_of_exp\":\"12/12/2030\"},\n",
    "    1011:{\"pname\":\"fivestar\",\"price\":10,\"quantity\":5,\"pcode\":\"a1011\",\"pcategory\":\"choc\",\"date_of_exp\":\"19/12/2025\"},\n",
    "    1012:{\"pname\":\"oreo\",\"price\":100,\"quantity\":5,\"pcode\":\"a1012\",\"pcategory\":\"biscuit\",\"date_of_exp\":\"20/06/2023\"},\n",
    "    1013:{\"pname\":\"dairymilk\",\"price\":150,\"quantity\":5,\"pcode\":\"a1013\",\"pcategory\":\"choc\",\"date_of_exp\":\"13/09/2023\"},\n",
    "    1014:{\"pname\":\"fivestar\",\"price\":10,\"quantity\":5,\"pcode\":\"a1014\",\"pcategory\":\"choc\",\"date_of_exp\":\"01/11/2024\"},\n",
    "    1015:{\"pname\":\"oreo\",\"price\":100,\"quantity\":5,\"pcode\":\"a1015\",\"pcategory\":\"biscuit\",\"date_of_exp\":\"07/12/2023\"},\n",
    "    1016:{\"pname\":\"dairymilk\",\"price\":150,\"quantity\":5,\"pcode\":\"a1016\",\"pcategory\":\"choc\",\"date_of_exp\":\"07/08/2025\"},\n",
    "    1017:{\"pname\":\"fivestar\",\"price\":10,\"quantity\":5,\"pcode\":\"a1017\",\"pcategory\":\"choc\",\"date_of_exp\":\"12/12/2022\"},\n",
    "    1018:{\"pname\":\"oreo\",\"price\":100,\"quantity\":5,\"pcode\":\"a1018\",\"pcategory\":\"biscuit\",\"date_of_exp\":\"12/11/2025\"},\n",
    "    1019:{\"pname\":\"dairymilk\",\"price\":150,\"quantity\":5,\"pcode\":\"a1019\",\"pcategory\":\"choc\",\"date_of_exp\":\"08/10/2023\"},\n",
    "    1020:{\"pname\":\"fivestar\",\"price\":10,\"quantity\":5,\"pcode\":\"a1020\",\"pcategory\":\"choc\",\"date_of_exp\":\"27/05/2026\"},\n",
    "    1021:{\"pname\":\"oreo\",\"price\":100,\"quantity\":5,\"pcode\":\"a1021\",\"pcategory\":\"biscuit\",\"date_of_exp\":\"16/03/2024\"},\n",
    "    1022:{\"pname\":\"dairymilk\",\"price\":150,\"quantity\":5,\"pcode\":\"a1022\",\"pcategory\":\"choc\",\"date_of_exp\":\"09/10/2023\"},\n",
    "    1023:{\"pname\":\"fivestar\",\"price\":10,\"quantity\":5,\"pcode\":\"a1023\",\"pcategory\":\"choc\",\"date_of_exp\":\"10/11/2024\"},\n",
    "    1024:{\"pname\":\"oreo\",\"price\":100,\"quantity\":5,\"pcode\":\"a1024\",\"pcategory\":\"biscuit\",\"date_of_exp\":\"04/04/2023\"},\n",
    "    1025:{\"pname\":\"dairymilk\",\"price\":150,\"quantity\":5,\"pcode\":\"a1025\",\"pcategory\":\"choc\",\"date_of_exp\":\"29/10/2026\"},\n",
    "    1026:{\"pname\":\"fivestar\",\"price\":10,\"quantity\":5,\"pcode\":\"a1026\",\"pcategory\":\"choc\",\"date_of_exp\":\"08/09/2025\"},\n",
    "    1027:{\"pname\":\"oreo\",\"price\":100,\"quantity\":5,\"pcode\":\"a1027\",\"pcategory\":\"biscuit\",\"date_of_exp\":\"15/08/2024\"},\n",
    "    1028:{\"pname\":\"dairymilk\",\"price\":150,\"quantity\":5,\"pcode\":\"a1028\",\"pcategory\":\"choc\",\"date_of_exp\":\"30/12/2023\"},\n",
    "    1029:{\"pname\":\"fivestar\",\"price\":10,\"quantity\":5,\"pcode\":\"a1029\",\"pcategory\":\"choc\",\"date_of_exp\":\"24/11/2024\"},\n",
    "    1030:{\"pname\":\"oreo\",\"price\":100,\"quantity\":5,\"pcode\":\"a1030\",\"pcategory\":\"biscuit\",\"date_of_exp\":\"28/09/2026\"}   \n",
    "\n",
    "}\n",
    "print(products[1001])\n"
   ]
  },
  {
   "cell_type": "markdown",
   "id": "e467ef1d",
   "metadata": {},
   "source": [
    "### Converting Dictionary into a Json String"
   ]
  },
  {
   "cell_type": "code",
   "execution_count": 6,
   "id": "93b1eee8",
   "metadata": {},
   "outputs": [],
   "source": [
    "js= json.dumps(products)\n"
   ]
  },
  {
   "cell_type": "markdown",
   "id": "3fdbcc9e",
   "metadata": {},
   "source": [
    "### Type of Json is String"
   ]
  },
  {
   "cell_type": "code",
   "execution_count": 7,
   "id": "3b365ac5",
   "metadata": {},
   "outputs": [
    {
     "data": {
      "text/plain": [
       "str"
      ]
     },
     "execution_count": 7,
     "metadata": {},
     "output_type": "execute_result"
    }
   ],
   "source": [
    "type(js)"
   ]
  },
  {
   "cell_type": "markdown",
   "id": "c392e9fa",
   "metadata": {},
   "source": [
    "### Writing mode of json file"
   ]
  },
  {
   "cell_type": "code",
   "execution_count": 9,
   "id": "51af18f9",
   "metadata": {},
   "outputs": [],
   "source": [
    "fb= open(\"Products.json\",'w') \n",
    "fb.write(js)\n",
    "fb.close()"
   ]
  },
  {
   "cell_type": "markdown",
   "id": "e0a20aac",
   "metadata": {},
   "source": [
    "### Reading a json File"
   ]
  },
  {
   "cell_type": "code",
   "execution_count": 10,
   "id": "fe81f7e5",
   "metadata": {},
   "outputs": [],
   "source": [
    "fb= open(\"Products.json\",'r') \n",
    "vb=fb.read()\n",
    "fb.close()\n"
   ]
  },
  {
   "cell_type": "markdown",
   "id": "1f3a19e6",
   "metadata": {},
   "source": [
    "### Converting Json String to a dictionary"
   ]
  },
  {
   "cell_type": "code",
   "execution_count": 11,
   "id": "57d48025",
   "metadata": {},
   "outputs": [
    {
     "name": "stdout",
     "output_type": "stream",
     "text": [
      "{'1001': {'pname': 'dairymilk', 'price': 150, 'quantity': 5, 'pcode': 'a1001', 'pcategory': 'choc', 'date_of_exp': '12/12/2024'}, '1002': {'pname': 'fivestar', 'price': 10, 'quantity': 5, 'pcode': 'a1002', 'pcategory': 'choc', 'date_of_exp': '10/10/2023'}, '1003': {'pname': 'oreo', 'price': 100, 'quantity': 5, 'pcode': 'a1003', 'pcategory': 'biscuit', 'date_of_exp': '01/02/2023'}, '1004': {'pname': 'redmi', 'price': 10000, 'quantity': 10, 'pcode': 'a1004', 'pcategory': 'mobile', 'date_of_exp': '22/09/2023'}, '1005': {'pname': 'vivo', 'price': 11000, 'quantity': 15, 'pcode': 'a1005', 'pcategory': 'mobile', 'date_of_exp': '14/07/2029'}, '1006': {'pname': 'oppo', 'price': 8000, 'quantity': 11, 'pcode': 'a1006', 'pcategory': 'mobile', 'date_of_exp': '05/02/2028'}, '1007': {'pname': 'iphone', 'price': 15000, 'quantity': 5, 'pcode': 'a1007', 'pcategory': 'mobile', 'date_of_exp': '15/12/2030'}, '1008': {'pname': 'HP', 'price': 50000, 'quantity': 3, 'pcode': 'a1008', 'pcategory': 'laptop', 'date_of_exp': '22/04/2029'}, '1009': {'pname': 'Dell', 'price': 45000, 'quantity': 5, 'pcode': 'a1009', 'pcategory': 'laptop', 'date_of_exp': '17/11/2028'}, '1010': {'pname': 'lenevo', 'price': 6000, 'quantity': 8, 'pcode': 'a1010', 'pcategory': 'choc', 'date_of_exp': '12/12/2030'}, '1011': {'pname': 'fivestar', 'price': 10, 'quantity': 5, 'pcode': 'a1011', 'pcategory': 'choc', 'date_of_exp': '19/12/2025'}, '1012': {'pname': 'oreo', 'price': 100, 'quantity': 5, 'pcode': 'a1012', 'pcategory': 'biscuit', 'date_of_exp': '20/06/2023'}, '1013': {'pname': 'dairymilk', 'price': 150, 'quantity': 5, 'pcode': 'a1013', 'pcategory': 'choc', 'date_of_exp': '13/09/2023'}, '1014': {'pname': 'fivestar', 'price': 10, 'quantity': 5, 'pcode': 'a1014', 'pcategory': 'choc', 'date_of_exp': '01/11/2024'}, '1015': {'pname': 'oreo', 'price': 100, 'quantity': 5, 'pcode': 'a1015', 'pcategory': 'biscuit', 'date_of_exp': '07/12/2023'}, '1016': {'pname': 'dairymilk', 'price': 150, 'quantity': 5, 'pcode': 'a1016', 'pcategory': 'choc', 'date_of_exp': '07/08/2025'}, '1017': {'pname': 'fivestar', 'price': 10, 'quantity': 5, 'pcode': 'a1017', 'pcategory': 'choc', 'date_of_exp': '12/12/2022'}, '1018': {'pname': 'oreo', 'price': 100, 'quantity': 5, 'pcode': 'a1018', 'pcategory': 'biscuit', 'date_of_exp': '12/11/2025'}, '1019': {'pname': 'dairymilk', 'price': 150, 'quantity': 5, 'pcode': 'a1019', 'pcategory': 'choc', 'date_of_exp': '08/10/2023'}, '1020': {'pname': 'fivestar', 'price': 10, 'quantity': 5, 'pcode': 'a1020', 'pcategory': 'choc', 'date_of_exp': '27/05/2026'}, '1021': {'pname': 'oreo', 'price': 100, 'quantity': 5, 'pcode': 'a1021', 'pcategory': 'biscuit', 'date_of_exp': '16/03/2024'}, '1022': {'pname': 'dairymilk', 'price': 150, 'quantity': 5, 'pcode': 'a1022', 'pcategory': 'choc', 'date_of_exp': '09/10/2023'}, '1023': {'pname': 'fivestar', 'price': 10, 'quantity': 5, 'pcode': 'a1023', 'pcategory': 'choc', 'date_of_exp': '10/11/2024'}, '1024': {'pname': 'oreo', 'price': 100, 'quantity': 5, 'pcode': 'a1024', 'pcategory': 'biscuit', 'date_of_exp': '04/04/2023'}, '1025': {'pname': 'dairymilk', 'price': 150, 'quantity': 5, 'pcode': 'a1025', 'pcategory': 'choc', 'date_of_exp': '29/10/2026'}, '1026': {'pname': 'fivestar', 'price': 10, 'quantity': 5, 'pcode': 'a1026', 'pcategory': 'choc', 'date_of_exp': '08/09/2025'}, '1027': {'pname': 'oreo', 'price': 100, 'quantity': 5, 'pcode': 'a1027', 'pcategory': 'biscuit', 'date_of_exp': '15/08/2024'}, '1028': {'pname': 'dairymilk', 'price': 150, 'quantity': 5, 'pcode': 'a1028', 'pcategory': 'choc', 'date_of_exp': '30/12/2023'}, '1029': {'pname': 'fivestar', 'price': 10, 'quantity': 5, 'pcode': 'a1029', 'pcategory': 'choc', 'date_of_exp': '24/11/2024'}, '1030': {'pname': 'oreo', 'price': 100, 'quantity': 5, 'pcode': 'a1030', 'pcategory': 'biscuit', 'date_of_exp': '28/09/2026'}}\n"
     ]
    }
   ],
   "source": [
    "k= json.loads(vb)\n",
    "print(k)"
   ]
  },
  {
   "cell_type": "markdown",
   "id": "f62b3d29",
   "metadata": {},
   "source": [
    "### Inventory System for placing order using the product id and add new items "
   ]
  },
  {
   "cell_type": "code",
   "execution_count": 20,
   "id": "a5f448a6",
   "metadata": {},
   "outputs": [
    {
     "name": "stdout",
     "output_type": "stream",
     "text": [
      "INVENTORY MANAGEMENT\n",
      "--------------------\n",
      "\n",
      "Available Options:\n",
      "\n",
      "1 - Place Order\n",
      "2 - Add new Item to Inventory\n",
      "\n",
      "Choose An Option: 1\n",
      "\n",
      "Enter Product ID - 1004\n",
      "Enter Product Quantity -2\n",
      "\n",
      "\n",
      "************************************\n",
      "Thu Sep  2 22:59:41 2021\n",
      "Product ID: 1004\n",
      "Name: redmi\n",
      "Quantity: 2\n",
      "Price: 10000\n",
      "Code: a1004\n",
      "Category: mobile\n",
      "DateofExpiry: 22/09/2023\n",
      "------------------------------------\n",
      "Bill: Rs 20000\n",
      "************************************\n",
      "\n",
      "\n"
     ]
    }
   ],
   "source": [
    "clear = lambda: os.system('cls')\n",
    "\n",
    "def main():\n",
    "    clear()\n",
    "    print(\"INVENTORY MANAGEMENT\")\n",
    "    print(\"--------------------\")\n",
    "    print()\n",
    "    print(\"Available Options:\")\n",
    "    print()\n",
    "    print(\"1 - Place Order\")\n",
    "    print(\"2 - Add new Item to Inventory\")\n",
    "    print()\n",
    "    while True:\n",
    "        userChoice = input(\"Choose An Option: \")\n",
    "        if userChoice == '1':\n",
    "            Place_Order()\n",
    "            break\n",
    "        elif userChoice == '2':\n",
    "            AddItem()\n",
    "            break\n",
    "            \n",
    "def Place_Order():\n",
    "    fd = open(\"Products.json\", 'w')\n",
    "    fd.write(vb)\n",
    "    fd.close()\n",
    "\n",
    "\n",
    "    fd = open(\"Products.json\", 'r')\n",
    "    txt = fd.read()\n",
    "    products = json.loads(txt)\n",
    "    fd.close()\n",
    "\n",
    "    # for i in list(products.keys()):\n",
    "    #     print(i,\":\",products[i]['name'], \": \\n for Rs\", products[i]['price'])\n",
    "\n",
    "\n",
    "    P_ID = input(\"\\nEnter Product ID - \")\n",
    "    quant = int(input(\"Enter Product Quantity -\"))\n",
    "\n",
    "    if P_ID in products:\n",
    "        if (quant <= products[P_ID]['quantity']):\n",
    "            print(\"\\n\")\n",
    "            print(\"************************************\")\n",
    "            print(time.ctime())\n",
    "            print(\"Product ID:\", P_ID)\n",
    "            print(\"Name:\", products[P_ID]['pname'])\n",
    "            print(\"Quantity:\",quant)\n",
    "            print(\"Price:\",products[P_ID]['price'])\n",
    "            print(\"Code:\",products[P_ID]['pcode'])\n",
    "            print(\"Category:\",products[P_ID]['pcategory'])\n",
    "            print(\"DateofExpiry:\",products[P_ID]['date_of_exp'])\n",
    "            print(\"------------------------------------\")\n",
    "            print(\"Bill: Rs\",quant * int(products[P_ID]['price']))\n",
    "            print(\"************************************\")\n",
    "            print(\"\\n\")\n",
    "\n",
    "            products[P_ID]['quantity'] -= quant\n",
    "        else:\n",
    "            print(\"Not having sufficient stock\")\n",
    "\n",
    "    js = json.dumps(products)\n",
    "\n",
    "    fd = open(\"Products.json\", 'w')\n",
    "    fd.write(js)\n",
    "    fd.close()\n",
    "    \n",
    "def AddItem():\n",
    "    itm = {}\n",
    "    itm[\"P_ID\"] = input(\"\\nEnter id: \")\n",
    "    itm[\"pname\"] = input(\"Enter Item name: \")\n",
    "    itm[\"price\"] = int(input(\"Enter price: \") or 100)\n",
    "    itm[\"quantity\"] = int(input(\"Enter current stock: \") or \"0\")\n",
    "    itm[\"pcode\"] = input(\"Enter Item code: \")\n",
    "    itm[\"pcategory\"] = input(\"Enter Item Category: \")\n",
    "    itm[\"date_of_exp\"] = input(\"Enter Item DateofExpiry: \")\n",
    "    print(\"Successfully Added\")\n",
    "    \n",
    "main()"
   ]
  },
  {
   "cell_type": "code",
   "execution_count": 15,
   "id": "0d079fe1",
   "metadata": {},
   "outputs": [],
   "source": [
    "back_json=json.dumps(k)\n",
    "fd=open(\"item_records.json\",\"w\")\n",
    "fd.write(back_json)\n",
    "fd.close()"
   ]
  }
 ],
 "metadata": {
  "kernelspec": {
   "display_name": "Python 3",
   "language": "python",
   "name": "python3"
  },
  "language_info": {
   "codemirror_mode": {
    "name": "ipython",
    "version": 3
   },
   "file_extension": ".py",
   "mimetype": "text/x-python",
   "name": "python",
   "nbconvert_exporter": "python",
   "pygments_lexer": "ipython3",
   "version": "3.8.8"
  }
 },
 "nbformat": 4,
 "nbformat_minor": 5
}
